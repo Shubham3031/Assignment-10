{
 "cells": [
  {
   "cell_type": "code",
   "execution_count": null,
   "id": "f35118d4-147f-4074-af6d-75a50b19e562",
   "metadata": {},
   "outputs": [],
   "source": [
    "# 1.Ans.\n",
    "In Python, the built-in open() function is used to open a file.\n",
    "\n",
    "Here are the different modes of opening a file in Python and their explanation:\n",
    "\n",
    "r: Opens a file for reading (default). If the file does not exist, a FileNotFoundError is raised.\n",
    "\n",
    "w: Opens a file for writing. If the file already exists, it will be truncated (emptied). \n",
    "   If the file does not exist, it will be created.\n",
    "\n",
    "a: Opens a file for appending. If the file does not exist, it will be created. \n",
    "   Data is written to the end of the file.\n",
    "\n",
    "x: Opens a file for exclusive creation. If the file already exists, a FileExistsError is raised.\n",
    "\n",
    "b: Opens a file in binary mode. This is used for non-text files like images or sound files.\n",
    "\n",
    "t: Opens a file in text mode (default).\n",
    "\n",
    "+: Opens a file for updating (reading and writing).\n",
    "\n"
   ]
  },
  {
   "cell_type": "code",
   "execution_count": null,
   "id": "6f7daa58-8df4-402f-9330-ec1d4a5dc90d",
   "metadata": {},
   "outputs": [],
   "source": [
    "# 2.Ans.\n",
    "\n",
    "The close() function is used to close a file object in Python.\n",
    "\n",
    "It is important to close a file after you have finished reading from or writing to it, \n",
    "as this ensures that any buffers are flushed and any resources associated with the file are released.\n",
    "\n",
    "When a file is opened in Python, it uses system resources to create a connection to the file on disk. \n",
    "If you do not close the file, these resources will be held by your program even after it has\n",
    "finished working with the file, which can lead to resource leaks and slow down your program."
   ]
  },
  {
   "cell_type": "code",
   "execution_count": 2,
   "id": "f2b8c585-6d7d-493d-b0de-c923b31effef",
   "metadata": {},
   "outputs": [],
   "source": [
    "# 3.Ans.\n",
    "\n",
    "with open('my file.txt','w') as f:\n",
    "    f.write('I want to become a Data Scientist')\n",
    "    f.close()"
   ]
  },
  {
   "cell_type": "code",
   "execution_count": 3,
   "id": "5b62cf72-e1d9-4403-a223-31b69b85c471",
   "metadata": {},
   "outputs": [
    {
     "name": "stdout",
     "output_type": "stream",
     "text": [
      "I want to become a Data Scientist\n"
     ]
    }
   ],
   "source": [
    "with open('my file.txt','r') as f:\n",
    "    content = f.read()\n",
    "    print(content)\n",
    "    \n",
    "    "
   ]
  },
  {
   "cell_type": "code",
   "execution_count": null,
   "id": "5417553a-4b99-4fdd-b54e-406d37e04824",
   "metadata": {},
   "outputs": [],
   "source": [
    "# 4.Ans.\n",
    "  read()\n",
    "    read() is used to read the entire contents of a file and return it as a string.\n",
    "  Code of read()\n",
    "\n",
    "with open('example.txt', 'r') as f:\n",
    "    content = f.read()\n",
    "    print(content)\n",
    "    \n",
    "readline()\n",
    "readline() is used to read a single line of a file at a time.\n",
    "It returns the line as a string, including the newline character at the end of the line.\n",
    "  Code of readline()\n",
    "    \n",
    "with open('example.txt', 'r') as f:\n",
    "    line = f.readline()\n",
    "    while line:\n",
    "        print(line)\n",
    "        line = f.readline()\n",
    "\n",
    "readlines() \n",
    "\n",
    "readlines() is used to read all the lines of a file and return them as a list of strings, \n",
    "with each string representing a line in the file.\n",
    "   Code of readlines()\n",
    "    \n",
    "with open('example.txt', 'r') as f:\n",
    "    lines = f.readlines()\n",
    "    print(lines)\n",
    "\n",
    "    \n",
    "\n"
   ]
  },
  {
   "cell_type": "code",
   "execution_count": null,
   "id": "e229005a-76ae-45b6-9d7a-77db6b4dd61a",
   "metadata": {},
   "outputs": [],
   "source": [
    "# 5.Ans.\n",
    "The with statement in Python is used to provide a context in which \n",
    "one or more resources are acquired or initialized before a block of code is executed, \n",
    "and then released or cleaned up after the block of code is executed.\n",
    "\n",
    "The open() function in Python is used to open a file and return a file object\\\n",
    "that can be used to access the contents of the file.\n",
    "\n",
    "When using the open() function to read from or write to a file, \n",
    "it's important to ensure that the file is properly closed after you're done using it. \n",
    "If the file is not closed properly, it can cause memory leaks and other problems.\n",
    "\n",
    "The with statement is used with open() to ensure that the file is closed properly after\n",
    "it's been used. When the block of code inside the with statement is executed, \n",
    "the file is automatically closed when the block is exited, even if an exception is raised.\n",
    "\n",
    "  Example \n",
    "    \n",
    "    with open('file.txt', 'r') as file:\n",
    "    contents = file.read()\n",
    "    print(contents)\n"
   ]
  },
  {
   "cell_type": "code",
   "execution_count": null,
   "id": "14b46b37-bc9c-437f-ba46-f5b28993257d",
   "metadata": {},
   "outputs": [],
   "source": [
    "# 6.Ans.\n",
    "\n",
    "The write() function is used to write a single string to a file.\n",
    "It takes a string argument and writes it to the file at the current position. \n",
    "If the file doesn't exist, it creates a new file. If the file already exists,\n",
    "it overwrites the existing content.\n",
    "\n",
    " Example of write()\n",
    "    \n",
    "with open('file.txt', 'w') as file:\n",
    "    file.write('Hello, World!')\n",
    "    \n",
    "The writelines() function, on the other hand, is used to write a list of strings to a file. \n",
    "It takes an iterable (such as a list or a tuple) of strings as an argument and writes \n",
    "each string to the file. It doesn't add any newline characters between the strings, \n",
    "so you need to include them in the strings if you want them to be written to the file.\n",
    "\n",
    "   Example of writelines()\n",
    "    \n",
    "lines = ['Line 1\\n', 'Line 2\\n', 'Line 3\\n']\n",
    "with open('file.txt', 'w') as file:\n",
    "    file.writelines(lines)\n",
    "\n",
    "\n"
   ]
  }
 ],
 "metadata": {
  "kernelspec": {
   "display_name": "Python 3 (ipykernel)",
   "language": "python",
   "name": "python3"
  },
  "language_info": {
   "codemirror_mode": {
    "name": "ipython",
    "version": 3
   },
   "file_extension": ".py",
   "mimetype": "text/x-python",
   "name": "python",
   "nbconvert_exporter": "python",
   "pygments_lexer": "ipython3",
   "version": "3.10.6"
  }
 },
 "nbformat": 4,
 "nbformat_minor": 5
}
